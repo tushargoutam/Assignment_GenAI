{
 "cells": [
  {
   "cell_type": "markdown",
   "id": "14d75c33",
   "metadata": {},
   "source": [
    "# Q1.What is the purpose of the len() function in python, and how can it be used with strings?"
   ]
  },
  {
   "cell_type": "markdown",
   "id": "c9fcbf4d",
   "metadata": {},
   "source": [
    "## len()\n",
    "len() function is used to check what is the lenght of an iterable data type.\n",
    "it can be used for list ,string ,tuples\n",
    "## len() function with string\n",
    "when len() function is used with strings then it returns the lenght(size) or total character present in the string, it also inclueds and whiter space and any special character other than digits and alphabets."
   ]
  },
  {
   "cell_type": "code",
   "execution_count": 1,
   "id": "f889345c",
   "metadata": {},
   "outputs": [
    {
     "data": {
      "text/plain": [
       "8"
      ]
     },
     "execution_count": 1,
     "metadata": {},
     "output_type": "execute_result"
    }
   ],
   "source": [
    "# Example\n",
    "s = \"pwskills\"\n",
    "len(s)"
   ]
  },
  {
   "cell_type": "markdown",
   "id": "0714ff48",
   "metadata": {},
   "source": [
    "# Q2.How can you concatenate two or more strings in python, and can you provide an example of string concatenation?"
   ]
  },
  {
   "cell_type": "markdown",
   "id": "bfc49fcb",
   "metadata": {},
   "source": [
    "## String Concatenation\n",
    "string concatenation is the process to joining or appending one string with another\n",
    "'+' operator is used for string concatenation and also join() function can be used for the same"
   ]
  },
  {
   "cell_type": "code",
   "execution_count": 2,
   "id": "6d3c9ca2",
   "metadata": {},
   "outputs": [],
   "source": [
    "s1 = \"My Name is :\"\n",
    "s2 = \"Tushar\""
   ]
  },
  {
   "cell_type": "code",
   "execution_count": 3,
   "id": "b963cfdc",
   "metadata": {},
   "outputs": [
    {
     "data": {
      "text/plain": [
       "'My Name is :Tushar'"
      ]
     },
     "execution_count": 3,
     "metadata": {},
     "output_type": "execute_result"
    }
   ],
   "source": [
    "# using '+'\n",
    "s1 + s2"
   ]
  },
  {
   "cell_type": "code",
   "execution_count": 5,
   "id": "84986798",
   "metadata": {},
   "outputs": [
    {
     "data": {
      "text/plain": [
       "'My Name is : Tushar Goutam'"
      ]
     },
     "execution_count": 5,
     "metadata": {},
     "output_type": "execute_result"
    }
   ],
   "source": [
    "s1+\" \"+s2+\" Goutam\""
   ]
  },
  {
   "cell_type": "code",
   "execution_count": 8,
   "id": "5422fade",
   "metadata": {},
   "outputs": [
    {
     "data": {
      "text/plain": [
       "'My Name is :Tushar'"
      ]
     },
     "execution_count": 8,
     "metadata": {},
     "output_type": "execute_result"
    }
   ],
   "source": [
    "# using join()\n",
    "\"\".join([s1,s2])"
   ]
  },
  {
   "cell_type": "code",
   "execution_count": 9,
   "id": "19d1c486",
   "metadata": {},
   "outputs": [
    {
     "data": {
      "text/plain": [
       "'My Name is : Tushar Goutam'"
      ]
     },
     "execution_count": 9,
     "metadata": {},
     "output_type": "execute_result"
    }
   ],
   "source": [
    "\"\".join([s1,' ',s2,' Goutam'])"
   ]
  },
  {
   "cell_type": "markdown",
   "id": "49f0c135",
   "metadata": {},
   "source": [
    "# Q3.What is string slicing in Python, and how can you extract a portion of a string using this method?"
   ]
  },
  {
   "cell_type": "markdown",
   "id": "a8e10fc1",
   "metadata": {},
   "source": [
    "## Slicing\n",
    "slicing is a method to obtain fragments or part of any string, list or any other data type that can be indexed.\n",
    "slicing works like data[starting_index,stop_index+1,jump]\n"
   ]
  },
  {
   "cell_type": "code",
   "execution_count": 11,
   "id": "b93e2c0a",
   "metadata": {},
   "outputs": [],
   "source": [
    "s = \"Tushar Goutam\""
   ]
  },
  {
   "cell_type": "code",
   "execution_count": 12,
   "id": "2f9fdd56",
   "metadata": {},
   "outputs": [
    {
     "data": {
      "text/plain": [
       "'Tushar '"
      ]
     },
     "execution_count": 12,
     "metadata": {},
     "output_type": "execute_result"
    }
   ],
   "source": [
    "s[0:7:1]"
   ]
  },
  {
   "cell_type": "code",
   "execution_count": 13,
   "id": "449b98b3",
   "metadata": {},
   "outputs": [
    {
     "data": {
      "text/plain": [
       "'Goutam'"
      ]
     },
     "execution_count": 13,
     "metadata": {},
     "output_type": "execute_result"
    }
   ],
   "source": [
    "s[7::1]"
   ]
  },
  {
   "cell_type": "code",
   "execution_count": 14,
   "id": "fe36e7a0",
   "metadata": {},
   "outputs": [
    {
     "data": {
      "text/plain": [
       "'matuoG rahsuT'"
      ]
     },
     "execution_count": 14,
     "metadata": {},
     "output_type": "execute_result"
    }
   ],
   "source": [
    "#To reverse the string\n",
    "s[::-1]"
   ]
  },
  {
   "cell_type": "markdown",
   "id": "dbf1657b",
   "metadata": {},
   "source": [
    "# Q4, How can you change the case of a string in Python, and can you provide examples of both making a string all uppercase and all lowercase"
   ]
  },
  {
   "cell_type": "markdown",
   "id": "354e2525",
   "metadata": {},
   "source": [
    "## Change Case\n",
    "In Python strings have many inbuilt function that can help manipulate the string out of these many inbuilt function two are used to change the case of string and those are upper() and lower()"
   ]
  },
  {
   "cell_type": "code",
   "execution_count": 1,
   "id": "48a49b6a",
   "metadata": {},
   "outputs": [],
   "source": [
    "s = \"Tushar\"\n",
    "su = \"TUSHAR\"\n",
    "sl = \"tushar\""
   ]
  },
  {
   "cell_type": "code",
   "execution_count": 3,
   "id": "338ff90a",
   "metadata": {},
   "outputs": [
    {
     "name": "stdout",
     "output_type": "stream",
     "text": [
      "Tushar\n"
     ]
    },
    {
     "data": {
      "text/plain": [
       "'TUSHAR'"
      ]
     },
     "execution_count": 3,
     "metadata": {},
     "output_type": "execute_result"
    }
   ],
   "source": [
    "#upper()\n",
    "print(s)\n",
    "s.upper()"
   ]
  },
  {
   "cell_type": "code",
   "execution_count": 4,
   "id": "e5b90f1c",
   "metadata": {},
   "outputs": [
    {
     "data": {
      "text/plain": [
       "'tushar'"
      ]
     },
     "execution_count": 4,
     "metadata": {},
     "output_type": "execute_result"
    }
   ],
   "source": [
    "sl"
   ]
  },
  {
   "cell_type": "code",
   "execution_count": 5,
   "id": "5fdd8e38",
   "metadata": {},
   "outputs": [
    {
     "data": {
      "text/plain": [
       "'TUSHAR'"
      ]
     },
     "execution_count": 5,
     "metadata": {},
     "output_type": "execute_result"
    }
   ],
   "source": [
    "sl.upper()"
   ]
  },
  {
   "cell_type": "code",
   "execution_count": 7,
   "id": "03153544",
   "metadata": {},
   "outputs": [
    {
     "data": {
      "text/plain": [
       "'Tushar'"
      ]
     },
     "execution_count": 7,
     "metadata": {},
     "output_type": "execute_result"
    }
   ],
   "source": [
    "#lower\n",
    "s"
   ]
  },
  {
   "cell_type": "code",
   "execution_count": 8,
   "id": "176110e4",
   "metadata": {},
   "outputs": [
    {
     "data": {
      "text/plain": [
       "'tushar'"
      ]
     },
     "execution_count": 8,
     "metadata": {},
     "output_type": "execute_result"
    }
   ],
   "source": [
    "s.lower()"
   ]
  },
  {
   "cell_type": "code",
   "execution_count": 9,
   "id": "a87d3bff",
   "metadata": {},
   "outputs": [
    {
     "data": {
      "text/plain": [
       "'TUSHAR'"
      ]
     },
     "execution_count": 9,
     "metadata": {},
     "output_type": "execute_result"
    }
   ],
   "source": [
    "su"
   ]
  },
  {
   "cell_type": "code",
   "execution_count": 10,
   "id": "07ceff09",
   "metadata": {},
   "outputs": [
    {
     "data": {
      "text/plain": [
       "'tushar'"
      ]
     },
     "execution_count": 10,
     "metadata": {},
     "output_type": "execute_result"
    }
   ],
   "source": [
    "su.lower()"
   ]
  },
  {
   "cell_type": "markdown",
   "id": "4ccbd70a",
   "metadata": {},
   "source": [
    "# Q5. What does the split() method do in python, and how can you split a string using a specific delimiter?"
   ]
  },
  {
   "cell_type": "markdown",
   "id": "6e671d5c",
   "metadata": {},
   "source": [
    "## split()\n",
    "split() function is used to split a string using a delimeter and store the splited values in the form of a list so they can be accessed using indexing"
   ]
  },
  {
   "cell_type": "code",
   "execution_count": 11,
   "id": "5ac2c2fd",
   "metadata": {},
   "outputs": [],
   "source": [
    "info = \"Name Tushar Course DataScience\""
   ]
  },
  {
   "cell_type": "code",
   "execution_count": 12,
   "id": "e0fbfbd4",
   "metadata": {},
   "outputs": [
    {
     "data": {
      "text/plain": [
       "['Name', 'Tushar', 'Course', 'DataScience']"
      ]
     },
     "execution_count": 12,
     "metadata": {},
     "output_type": "execute_result"
    }
   ],
   "source": [
    "info.split()"
   ]
  },
  {
   "cell_type": "code",
   "execution_count": 13,
   "id": "e49373cd",
   "metadata": {},
   "outputs": [
    {
     "data": {
      "text/plain": [
       "['Name : Tushar Goutam', 'Course : Data Science']"
      ]
     },
     "execution_count": 13,
     "metadata": {},
     "output_type": "execute_result"
    }
   ],
   "source": [
    "# Spliting using a specific delimeter\n",
    "info = \"Name : Tushar Goutam,Course : Data Science\"\n",
    "info.split(',')"
   ]
  },
  {
   "cell_type": "code",
   "execution_count": 14,
   "id": "6b3900bc",
   "metadata": {},
   "outputs": [
    {
     "data": {
      "text/plain": [
       "['Name : Tushar Goutam', 'Course : Data Science']"
      ]
     },
     "execution_count": 14,
     "metadata": {},
     "output_type": "execute_result"
    }
   ],
   "source": [
    "info = \"Name : Tushar Goutam,Course : Data Science\"\n",
    "info.split(sep = ',')"
   ]
  },
  {
   "cell_type": "code",
   "execution_count": null,
   "id": "6bb56410",
   "metadata": {},
   "outputs": [],
   "source": []
  }
 ],
 "metadata": {
  "kernelspec": {
   "display_name": "Python 3 (ipykernel)",
   "language": "python",
   "name": "python3"
  },
  "language_info": {
   "codemirror_mode": {
    "name": "ipython",
    "version": 3
   },
   "file_extension": ".py",
   "mimetype": "text/x-python",
   "name": "python",
   "nbconvert_exporter": "python",
   "pygments_lexer": "ipython3",
   "version": "3.9.7"
  }
 },
 "nbformat": 4,
 "nbformat_minor": 5
}
