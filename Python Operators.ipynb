{
 "cells": [
  {
   "cell_type": "markdown",
   "id": "eb60ad6f",
   "metadata": {},
   "source": [
    "# Q1.calculate the sum,difference,product,and quotient of two numbers."
   ]
  },
  {
   "cell_type": "code",
   "execution_count": 1,
   "id": "4b02e22d",
   "metadata": {},
   "outputs": [],
   "source": [
    "num1 = 10\n",
    "num2 = 2"
   ]
  },
  {
   "cell_type": "code",
   "execution_count": 3,
   "id": "8f0fb1d8",
   "metadata": {},
   "outputs": [
    {
     "data": {
      "text/plain": [
       "12"
      ]
     },
     "execution_count": 3,
     "metadata": {},
     "output_type": "execute_result"
    }
   ],
   "source": [
    "#sum\n",
    "sm = num1 + num2\n",
    "sm"
   ]
  },
  {
   "cell_type": "code",
   "execution_count": 4,
   "id": "812d224e",
   "metadata": {},
   "outputs": [
    {
     "data": {
      "text/plain": [
       "8"
      ]
     },
     "execution_count": 4,
     "metadata": {},
     "output_type": "execute_result"
    }
   ],
   "source": [
    "#Difference\n",
    "df = num1 - num2\n",
    "df"
   ]
  },
  {
   "cell_type": "code",
   "execution_count": 5,
   "id": "6dc6b499",
   "metadata": {},
   "outputs": [
    {
     "data": {
      "text/plain": [
       "20"
      ]
     },
     "execution_count": 5,
     "metadata": {},
     "output_type": "execute_result"
    }
   ],
   "source": [
    "#Product\n",
    "prd = num1 * num2\n",
    "prd"
   ]
  },
  {
   "cell_type": "code",
   "execution_count": 6,
   "id": "af1b990d",
   "metadata": {},
   "outputs": [
    {
     "data": {
      "text/plain": [
       "5.0"
      ]
     },
     "execution_count": 6,
     "metadata": {},
     "output_type": "execute_result"
    }
   ],
   "source": [
    "#Quotient\n",
    "div = num1 / num2\n",
    "div"
   ]
  },
  {
   "cell_type": "markdown",
   "id": "e2b6b983",
   "metadata": {},
   "source": [
    "# Q2.Perform various Assignment Operations on a variable."
   ]
  },
  {
   "cell_type": "code",
   "execution_count": 83,
   "id": "34c36ef6",
   "metadata": {},
   "outputs": [
    {
     "data": {
      "text/plain": [
       "10"
      ]
     },
     "execution_count": 83,
     "metadata": {},
     "output_type": "execute_result"
    }
   ],
   "source": [
    "# '=' operator\n",
    "\n",
    "num1 = 10\n",
    "num1"
   ]
  },
  {
   "cell_type": "code",
   "execution_count": 84,
   "id": "09105a1c",
   "metadata": {},
   "outputs": [
    {
     "data": {
      "text/plain": [
       "11"
      ]
     },
     "execution_count": 84,
     "metadata": {},
     "output_type": "execute_result"
    }
   ],
   "source": [
    "# '+=' operator\n",
    "\n",
    "num1 += 1\n",
    "num1"
   ]
  },
  {
   "cell_type": "code",
   "execution_count": 85,
   "id": "e5927394",
   "metadata": {},
   "outputs": [
    {
     "data": {
      "text/plain": [
       "9"
      ]
     },
     "execution_count": 85,
     "metadata": {},
     "output_type": "execute_result"
    }
   ],
   "source": [
    "# '-=' operator\n",
    "\n",
    "num1 -= 2\n",
    "num1"
   ]
  },
  {
   "cell_type": "code",
   "execution_count": 86,
   "id": "ebbf9541",
   "metadata": {},
   "outputs": [
    {
     "data": {
      "text/plain": [
       "36"
      ]
     },
     "execution_count": 86,
     "metadata": {},
     "output_type": "execute_result"
    }
   ],
   "source": [
    "# '*=' operator\n",
    "\n",
    "num1 *= 4\n",
    "num1"
   ]
  },
  {
   "cell_type": "code",
   "execution_count": 87,
   "id": "ae801fdc",
   "metadata": {},
   "outputs": [
    {
     "data": {
      "text/plain": [
       "18.0"
      ]
     },
     "execution_count": 87,
     "metadata": {},
     "output_type": "execute_result"
    }
   ],
   "source": [
    "# '/=' operator\n",
    "num1 /= 2\n",
    "num1"
   ]
  },
  {
   "cell_type": "code",
   "execution_count": 88,
   "id": "1df5df51",
   "metadata": {},
   "outputs": [
    {
     "data": {
      "text/plain": [
       "2.0"
      ]
     },
     "execution_count": 88,
     "metadata": {},
     "output_type": "execute_result"
    }
   ],
   "source": [
    "# '%=' operator\n",
    "num1 %= 4\n",
    "num1"
   ]
  },
  {
   "cell_type": "code",
   "execution_count": 89,
   "id": "7a28a19f",
   "metadata": {},
   "outputs": [
    {
     "data": {
      "text/plain": [
       "1.0"
      ]
     },
     "execution_count": 89,
     "metadata": {},
     "output_type": "execute_result"
    }
   ],
   "source": [
    "# '//=' operator\n",
    "num1 //= 2\n",
    "num1"
   ]
  },
  {
   "cell_type": "code",
   "execution_count": 90,
   "id": "17af83da",
   "metadata": {},
   "outputs": [],
   "source": [
    "num1 = 2"
   ]
  },
  {
   "cell_type": "code",
   "execution_count": 91,
   "id": "8d122321",
   "metadata": {},
   "outputs": [
    {
     "data": {
      "text/plain": [
       "4"
      ]
     },
     "execution_count": 91,
     "metadata": {},
     "output_type": "execute_result"
    }
   ],
   "source": [
    "# '**=' operator\n",
    "num1 **= 2\n",
    "num1"
   ]
  },
  {
   "cell_type": "code",
   "execution_count": 92,
   "id": "99ff96b6",
   "metadata": {},
   "outputs": [
    {
     "data": {
      "text/plain": [
       "4"
      ]
     },
     "execution_count": 92,
     "metadata": {},
     "output_type": "execute_result"
    }
   ],
   "source": [
    "# '&='\n",
    "num1 &= 4\n",
    "num1"
   ]
  },
  {
   "cell_type": "code",
   "execution_count": 93,
   "id": "32d0aacb",
   "metadata": {},
   "outputs": [
    {
     "data": {
      "text/plain": [
       "5"
      ]
     },
     "execution_count": 93,
     "metadata": {},
     "output_type": "execute_result"
    }
   ],
   "source": [
    "# '|='\n",
    "\n",
    "num1 |= 1\n",
    "num1"
   ]
  },
  {
   "cell_type": "code",
   "execution_count": 94,
   "id": "d0b8d830",
   "metadata": {},
   "outputs": [
    {
     "data": {
      "text/plain": [
       "7"
      ]
     },
     "execution_count": 94,
     "metadata": {},
     "output_type": "execute_result"
    }
   ],
   "source": [
    "# '^='\n",
    "num1 ^= 2\n",
    "num1"
   ]
  },
  {
   "cell_type": "code",
   "execution_count": 95,
   "id": "8c328335",
   "metadata": {},
   "outputs": [
    {
     "data": {
      "text/plain": [
       "14"
      ]
     },
     "execution_count": 95,
     "metadata": {},
     "output_type": "execute_result"
    }
   ],
   "source": [
    "#'<<='\n",
    "num1 <<= 1\n",
    "num1"
   ]
  },
  {
   "cell_type": "code",
   "execution_count": 96,
   "id": "d60fc68f",
   "metadata": {},
   "outputs": [
    {
     "data": {
      "text/plain": [
       "3"
      ]
     },
     "execution_count": 96,
     "metadata": {},
     "output_type": "execute_result"
    }
   ],
   "source": [
    "# '>>='\n",
    "num1 >>= 2\n",
    "num1"
   ]
  },
  {
   "cell_type": "markdown",
   "id": "117d9de9",
   "metadata": {},
   "source": [
    "# Q3.Compare two numbers and print the results."
   ]
  },
  {
   "cell_type": "code",
   "execution_count": 17,
   "id": "8d884c58",
   "metadata": {},
   "outputs": [],
   "source": [
    "nm1 = 2\n",
    "nm2 = 4"
   ]
  },
  {
   "cell_type": "code",
   "execution_count": 18,
   "id": "1633bbf5",
   "metadata": {},
   "outputs": [
    {
     "name": "stdout",
     "output_type": "stream",
     "text": [
      "Nm1 is smaller\n"
     ]
    }
   ],
   "source": [
    "if nm1<nm2:\n",
    "    print('Nm1 is smaller')"
   ]
  },
  {
   "cell_type": "code",
   "execution_count": 21,
   "id": "3ab98752",
   "metadata": {},
   "outputs": [
    {
     "name": "stdout",
     "output_type": "stream",
     "text": [
      "Nm1 is greater\n"
     ]
    }
   ],
   "source": [
    "nm1 = 2\n",
    "nm2 = 1\n",
    "if nm1>nm2:\n",
    "    print(\"Nm1 is greater\")"
   ]
  },
  {
   "cell_type": "code",
   "execution_count": 22,
   "id": "ea7abdfa",
   "metadata": {},
   "outputs": [
    {
     "name": "stdout",
     "output_type": "stream",
     "text": [
      "Both Are Equal\n"
     ]
    }
   ],
   "source": [
    "nm1 = 2\n",
    "nm2 = 2\n",
    "if nm1==nm2:\n",
    "    print(\"Both Are Equal\")"
   ]
  },
  {
   "cell_type": "code",
   "execution_count": 23,
   "id": "fda1c958",
   "metadata": {},
   "outputs": [
    {
     "name": "stdout",
     "output_type": "stream",
     "text": [
      "Nm1 is greater or equal\n"
     ]
    }
   ],
   "source": [
    "nm1 = 2\n",
    "nm2 = 1\n",
    "if nm1>=nm2:\n",
    "    print(\"Nm1 is greater or equal\")"
   ]
  },
  {
   "cell_type": "code",
   "execution_count": 24,
   "id": "b0c25726",
   "metadata": {},
   "outputs": [
    {
     "name": "stdout",
     "output_type": "stream",
     "text": [
      "Nm1 is smaller or equal\n"
     ]
    }
   ],
   "source": [
    "nm1 = 2\n",
    "nm2 = 4\n",
    "if nm1<=nm2:\n",
    "    print(\"Nm1 is smaller or equal\")"
   ]
  },
  {
   "cell_type": "markdown",
   "id": "7bcc4518",
   "metadata": {},
   "source": [
    "# Q4.check conditions using logical operators."
   ]
  },
  {
   "cell_type": "code",
   "execution_count": 25,
   "id": "c617653b",
   "metadata": {},
   "outputs": [],
   "source": [
    "num1 = 5\n",
    "num2 = 4\n",
    "num3 = 2"
   ]
  },
  {
   "cell_type": "code",
   "execution_count": 26,
   "id": "3666f7d5",
   "metadata": {},
   "outputs": [
    {
     "name": "stdout",
     "output_type": "stream",
     "text": [
      "yes\n"
     ]
    }
   ],
   "source": [
    "if (num1>num2) and (num2>num3):\n",
    "    print('yes')"
   ]
  },
  {
   "cell_type": "code",
   "execution_count": 27,
   "id": "70b65cd1",
   "metadata": {},
   "outputs": [
    {
     "name": "stdout",
     "output_type": "stream",
     "text": [
      "no\n"
     ]
    }
   ],
   "source": [
    "if (num1>num2) and (num2<num3):\n",
    "    print('yes')\n",
    "else:\n",
    "    print('no')"
   ]
  },
  {
   "cell_type": "code",
   "execution_count": 28,
   "id": "9f74ec6d",
   "metadata": {},
   "outputs": [
    {
     "name": "stdout",
     "output_type": "stream",
     "text": [
      "yes\n"
     ]
    }
   ],
   "source": [
    "if (num1>num2) or (num2<num3):\n",
    "    print('yes')\n",
    "else:\n",
    "    print('no')"
   ]
  },
  {
   "cell_type": "code",
   "execution_count": 29,
   "id": "88c46f2b",
   "metadata": {},
   "outputs": [
    {
     "name": "stdout",
     "output_type": "stream",
     "text": [
      "yes\n"
     ]
    }
   ],
   "source": [
    "if not(num2>num1):\n",
    "    print('yes')"
   ]
  },
  {
   "cell_type": "code",
   "execution_count": 31,
   "id": "7e1b63c4",
   "metadata": {},
   "outputs": [
    {
     "name": "stdout",
     "output_type": "stream",
     "text": [
      "condition inside not() is true thus result is false\n"
     ]
    }
   ],
   "source": [
    "if not(num3<num2):\n",
    "    print('yes')\n",
    "else:\n",
    "    print('condition inside not() is true thus result is false')"
   ]
  },
  {
   "cell_type": "markdown",
   "id": "a3008ff6",
   "metadata": {},
   "source": [
    "# Q5.Check the identity of variables"
   ]
  },
  {
   "cell_type": "code",
   "execution_count": 37,
   "id": "db3ef411",
   "metadata": {},
   "outputs": [],
   "source": [
    "s = \"pwskills\"\n",
    "s1 = 'PWSKILLS'"
   ]
  },
  {
   "cell_type": "code",
   "execution_count": 40,
   "id": "a767c058",
   "metadata": {},
   "outputs": [
    {
     "data": {
      "text/plain": [
       "str"
      ]
     },
     "execution_count": 40,
     "metadata": {},
     "output_type": "execute_result"
    }
   ],
   "source": [
    "type(s)"
   ]
  },
  {
   "cell_type": "code",
   "execution_count": 41,
   "id": "92da17ca",
   "metadata": {},
   "outputs": [
    {
     "data": {
      "text/plain": [
       "str"
      ]
     },
     "execution_count": 41,
     "metadata": {},
     "output_type": "execute_result"
    }
   ],
   "source": [
    "type(s1)"
   ]
  },
  {
   "cell_type": "code",
   "execution_count": 38,
   "id": "676eddd2",
   "metadata": {},
   "outputs": [],
   "source": [
    "if s is s1:\n",
    "    print(\"Both are same\")"
   ]
  },
  {
   "cell_type": "code",
   "execution_count": 39,
   "id": "1669e214",
   "metadata": {},
   "outputs": [
    {
     "name": "stdout",
     "output_type": "stream",
     "text": [
      "Both are different\n"
     ]
    }
   ],
   "source": [
    "if s is not s1:\n",
    "    print(\"Both are different\")"
   ]
  },
  {
   "cell_type": "markdown",
   "id": "63ca31a1",
   "metadata": {},
   "source": [
    "# Q6.Perform bitwise operations  on any two integers."
   ]
  },
  {
   "cell_type": "code",
   "execution_count": 43,
   "id": "e58c8457",
   "metadata": {},
   "outputs": [],
   "source": [
    "a = 2\n",
    "b = 8"
   ]
  },
  {
   "cell_type": "code",
   "execution_count": 44,
   "id": "2bf6d79d",
   "metadata": {},
   "outputs": [
    {
     "data": {
      "text/plain": [
       "0"
      ]
     },
     "execution_count": 44,
     "metadata": {},
     "output_type": "execute_result"
    }
   ],
   "source": [
    "# '&'\n",
    "a&b"
   ]
  },
  {
   "cell_type": "code",
   "execution_count": 46,
   "id": "123abe0d",
   "metadata": {},
   "outputs": [
    {
     "data": {
      "text/plain": [
       "10"
      ]
     },
     "execution_count": 46,
     "metadata": {},
     "output_type": "execute_result"
    }
   ],
   "source": [
    "# '|'\n",
    "a | b"
   ]
  },
  {
   "cell_type": "code",
   "execution_count": 48,
   "id": "bf772ab6",
   "metadata": {},
   "outputs": [
    {
     "data": {
      "text/plain": [
       "-9"
      ]
     },
     "execution_count": 48,
     "metadata": {},
     "output_type": "execute_result"
    }
   ],
   "source": [
    "#'~'\n",
    "~(b)"
   ]
  },
  {
   "cell_type": "code",
   "execution_count": 51,
   "id": "28a74bd4",
   "metadata": {},
   "outputs": [
    {
     "data": {
      "text/plain": [
       "10"
      ]
     },
     "execution_count": 51,
     "metadata": {},
     "output_type": "execute_result"
    }
   ],
   "source": [
    "#'^'\n",
    "a^b"
   ]
  },
  {
   "cell_type": "code",
   "execution_count": 52,
   "id": "14a2f3b7",
   "metadata": {},
   "outputs": [
    {
     "data": {
      "text/plain": [
       "1"
      ]
     },
     "execution_count": 52,
     "metadata": {},
     "output_type": "execute_result"
    }
   ],
   "source": [
    "#'>>'\n",
    "a>>1"
   ]
  },
  {
   "cell_type": "code",
   "execution_count": 53,
   "id": "39039fcd",
   "metadata": {},
   "outputs": [
    {
     "data": {
      "text/plain": [
       "4"
      ]
     },
     "execution_count": 53,
     "metadata": {},
     "output_type": "execute_result"
    }
   ],
   "source": [
    "b>>1"
   ]
  },
  {
   "cell_type": "code",
   "execution_count": 54,
   "id": "b0c681b7",
   "metadata": {},
   "outputs": [
    {
     "data": {
      "text/plain": [
       "4"
      ]
     },
     "execution_count": 54,
     "metadata": {},
     "output_type": "execute_result"
    }
   ],
   "source": [
    "#'<<'\n",
    "a<<1"
   ]
  },
  {
   "cell_type": "code",
   "execution_count": 55,
   "id": "e46f5718",
   "metadata": {},
   "outputs": [
    {
     "data": {
      "text/plain": [
       "16"
      ]
     },
     "execution_count": 55,
     "metadata": {},
     "output_type": "execute_result"
    }
   ],
   "source": [
    "b<<1"
   ]
  },
  {
   "cell_type": "markdown",
   "id": "4b7b9ed7",
   "metadata": {},
   "source": [
    "# Q7.Use unary operators to chane the sign of a number."
   ]
  },
  {
   "cell_type": "code",
   "execution_count": 97,
   "id": "d6aa23fa",
   "metadata": {},
   "outputs": [],
   "source": [
    "x = 4"
   ]
  },
  {
   "cell_type": "code",
   "execution_count": 98,
   "id": "de67f41b",
   "metadata": {},
   "outputs": [
    {
     "data": {
      "text/plain": [
       "-4"
      ]
     },
     "execution_count": 98,
     "metadata": {},
     "output_type": "execute_result"
    }
   ],
   "source": [
    "-x"
   ]
  },
  {
   "cell_type": "code",
   "execution_count": 100,
   "id": "af4a6bb4",
   "metadata": {},
   "outputs": [],
   "source": [
    "x = -5"
   ]
  },
  {
   "cell_type": "code",
   "execution_count": 102,
   "id": "e9180c34",
   "metadata": {},
   "outputs": [
    {
     "data": {
      "text/plain": [
       "5"
      ]
     },
     "execution_count": 102,
     "metadata": {},
     "output_type": "execute_result"
    }
   ],
   "source": [
    "-x"
   ]
  },
  {
   "cell_type": "code",
   "execution_count": 103,
   "id": "badd9973",
   "metadata": {},
   "outputs": [],
   "source": [
    "x = 1"
   ]
  },
  {
   "cell_type": "code",
   "execution_count": 104,
   "id": "58140777",
   "metadata": {},
   "outputs": [
    {
     "data": {
      "text/plain": [
       "1"
      ]
     },
     "execution_count": 104,
     "metadata": {},
     "output_type": "execute_result"
    }
   ],
   "source": [
    "+x"
   ]
  },
  {
   "cell_type": "markdown",
   "id": "a6681687",
   "metadata": {},
   "source": [
    "# Q8.use the ternary operator to assin values based on conditions."
   ]
  },
  {
   "cell_type": "code",
   "execution_count": 105,
   "id": "380d09e0",
   "metadata": {},
   "outputs": [],
   "source": [
    "num1 = 2"
   ]
  },
  {
   "cell_type": "code",
   "execution_count": 107,
   "id": "47855e11",
   "metadata": {},
   "outputs": [],
   "source": [
    "a = -num1 if num1>0 else num1"
   ]
  },
  {
   "cell_type": "code",
   "execution_count": 108,
   "id": "72b4de43",
   "metadata": {},
   "outputs": [
    {
     "name": "stdout",
     "output_type": "stream",
     "text": [
      "-2\n"
     ]
    }
   ],
   "source": [
    "print(a)"
   ]
  },
  {
   "cell_type": "code",
   "execution_count": null,
   "id": "5c35a655",
   "metadata": {},
   "outputs": [],
   "source": []
  }
 ],
 "metadata": {
  "kernelspec": {
   "display_name": "Python 3 (ipykernel)",
   "language": "python",
   "name": "python3"
  },
  "language_info": {
   "codemirror_mode": {
    "name": "ipython",
    "version": 3
   },
   "file_extension": ".py",
   "mimetype": "text/x-python",
   "name": "python",
   "nbconvert_exporter": "python",
   "pygments_lexer": "ipython3",
   "version": "3.9.7"
  }
 },
 "nbformat": 4,
 "nbformat_minor": 5
}
