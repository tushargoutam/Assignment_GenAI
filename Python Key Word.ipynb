{
 "cells": [
  {
   "cell_type": "markdown",
   "id": "25fdced4",
   "metadata": {},
   "source": [
    "# Q1.Explain the significance of Python keyword and provide examples of five keywords."
   ]
  },
  {
   "cell_type": "markdown",
   "id": "747af55b",
   "metadata": {},
   "source": [
    "Ans.Keywords\n",
    "    -Python Keywords are speacially reserved word .\n",
    "    -These Words have some specific purpose that are predefined and redefining them is strictly advised against.\n",
    "    -keywords are always available and doesn't need importing.\n",
    "    -It's is adviced not to use name of keyword in any other purpose such as identifiers name , function or class name ,etc."
   ]
  },
  {
   "cell_type": "code",
   "execution_count": 3,
   "id": "9f267dd6",
   "metadata": {},
   "outputs": [
    {
     "name": "stdout",
     "output_type": "stream",
     "text": [
      "\n",
      "Here is a list of the Python keywords.  Enter any keyword to get more help.\n",
      "\n",
      "False               break               for                 not\n",
      "None                class               from                or\n",
      "True                continue            global              pass\n",
      "__peg_parser__      def                 if                  raise\n",
      "and                 del                 import              return\n",
      "as                  elif                in                  try\n",
      "assert              else                is                  while\n",
      "async               except              lambda              with\n",
      "await               finally             nonlocal            yield\n",
      "\n"
     ]
    }
   ],
   "source": [
    "# These are all the keywords that are available\n",
    "\n",
    "help('keywords')"
   ]
  },
  {
   "cell_type": "code",
   "execution_count": 7,
   "id": "84c6ea05",
   "metadata": {},
   "outputs": [
    {
     "name": "stdout",
     "output_type": "stream",
     "text": [
      "0\n",
      "1\n",
      "2\n",
      "4\n",
      "5\n",
      "6\n",
      "7\n"
     ]
    }
   ],
   "source": [
    "#in,break,continue,if,elif,else and for these keywords are used below\n",
    "for i in range(0,10):\n",
    "    if i==3:\n",
    "        continue\n",
    "    elif i==8:\n",
    "        break\n",
    "    else:\n",
    "        print(i)\n",
    "else:\n",
    "    print(\"If loop get's broken this won't be printed\")"
   ]
  },
  {
   "cell_type": "markdown",
   "id": "7317a37a",
   "metadata": {},
   "source": [
    "# Q3.what are comments in python,and why are tey useful?Provide an Example."
   ]
  },
  {
   "cell_type": "markdown",
   "id": "8ab29017",
   "metadata": {},
   "source": [
    "Ans. Comments\n",
    "     Commetns are the line of code that the python ignores during the interpretation of the program.\n",
    "     Comments are very useful in python because they help in documentation purpose and to decscribe the code so that every new person who try to use the code have easy time understanding the working and purpose of the code.\n",
    "     Types:-\n",
    "     Single Line Comment - using '#'\n",
    "     Multi Line comment - using \"\"\" \"\"\"\n",
    "                                ''' '''\n",
    "     Docstring : Also a multi line comment but given inside function definition for describing the use of function."
   ]
  },
  {
   "cell_type": "code",
   "execution_count": 11,
   "id": "18d49fd5",
   "metadata": {},
   "outputs": [
    {
     "data": {
      "text/plain": [
       "10"
      ]
     },
     "execution_count": 11,
     "metadata": {},
     "output_type": "execute_result"
    }
   ],
   "source": [
    "# This is a single Line comment\n",
    "a =10\n",
    "a"
   ]
  },
  {
   "cell_type": "code",
   "execution_count": 12,
   "id": "f003f01d",
   "metadata": {},
   "outputs": [
    {
     "data": {
      "text/plain": [
       "2"
      ]
     },
     "execution_count": 12,
     "metadata": {},
     "output_type": "execute_result"
    }
   ],
   "source": [
    "\"\"\"\n",
    "This\n",
    "is \n",
    "multi\n",
    "line\n",
    "comment\n",
    "\n",
    "\"\"\"\n",
    "a = 2\n",
    "a"
   ]
  },
  {
   "cell_type": "code",
   "execution_count": 13,
   "id": "b38c9fea",
   "metadata": {},
   "outputs": [
    {
     "data": {
      "text/plain": [
       "4"
      ]
     },
     "execution_count": 13,
     "metadata": {},
     "output_type": "execute_result"
    }
   ],
   "source": [
    "'''\n",
    "multi \n",
    "line \n",
    "can be\n",
    "use \n",
    "like this \n",
    "also\n",
    "\n",
    "'''\n",
    "b = 4\n",
    "b"
   ]
  },
  {
   "cell_type": "code",
   "execution_count": 14,
   "id": "968208e7",
   "metadata": {},
   "outputs": [],
   "source": [
    "def test():\n",
    "    \"\"\"\n",
    "    This is example of Doctring this function just passes\n",
    "    \n",
    "    \"\"\"\n",
    "    pass"
   ]
  },
  {
   "cell_type": "code",
   "execution_count": 15,
   "id": "2afe9e2a",
   "metadata": {},
   "outputs": [],
   "source": [
    "test()"
   ]
  },
  {
   "attachments": {
    "image.png": {
     "image/png": "[encoded data removed]"
    }
   },
   "cell_type": "markdown",
   "id": "51b4458e",
   "metadata": {},
   "source": [
    "![image.png](attachment:image.png)"
   ]
  },
  {
   "cell_type": "markdown",
   "id": "669d1a44",
   "metadata": {},
   "source": [
    "# Q4. why is proper indentation important in python?"
   ]
  },
  {
   "cell_type": "markdown",
   "id": "8ad92ff4",
   "metadata": {},
   "source": [
    "Ans.Indentation\n",
    "    Indentation is important in python because it increases the readibility,it seperates definition from it's body as {} are used in c programming to seperate the loops,conditional statements ,etc a tab space is used in python.\n",
    "    If any code in python is not according to indentation then the output get's an error."
   ]
  },
  {
   "cell_type": "code",
   "execution_count": 25,
   "id": "d8304ecc",
   "metadata": {},
   "outputs": [
    {
     "name": "stdout",
     "output_type": "stream",
     "text": [
      "else\n",
      "if\n"
     ]
    }
   ],
   "source": [
    "for i in range(2):\n",
    "    if i==1:\n",
    "         print('if')\n",
    "    else:\n",
    "        print('else')"
   ]
  },
  {
   "cell_type": "markdown",
   "id": "d797be40",
   "metadata": {},
   "source": [
    "# Q5.What happens if indentation is incorrect in python?"
   ]
  },
  {
   "cell_type": "markdown",
   "id": "ba03ac71",
   "metadata": {},
   "source": [
    "Ans.If indentation is incorrect in python then the code throws an error."
   ]
  },
  {
   "cell_type": "code",
   "execution_count": 26,
   "id": "b00d67cc",
   "metadata": {},
   "outputs": [
    {
     "ename": "IndentationError",
     "evalue": "expected an indented block (Temp/ipykernel_19332/592667209.py, line 2)",
     "output_type": "error",
     "traceback": [
      "\u001b[1;36m  File \u001b[1;32m\"C:\\Users\\hp\\AppData\\Local\\Temp/ipykernel_19332/592667209.py\"\u001b[1;36m, line \u001b[1;32m2\u001b[0m\n\u001b[1;33m    if i==1:\u001b[0m\n\u001b[1;37m    ^\u001b[0m\n\u001b[1;31mIndentationError\u001b[0m\u001b[1;31m:\u001b[0m expected an indented block\n"
     ]
    }
   ],
   "source": [
    "for i in range(2):\n",
    "if i==1:\n",
    "     print('if')\n",
    "else:\n",
    "    print('else')"
   ]
  },
  {
   "cell_type": "markdown",
   "id": "424fd133",
   "metadata": {},
   "source": [
    "# Q6.Differentiate between expression and statement in python with examples."
   ]
  },
  {
   "cell_type": "markdown",
   "id": "3c1edaa0",
   "metadata": {},
   "source": [
    "Ans.Expression vs Statements\n",
    "    Expression are Different from Statements they are key concepts in python\n",
    "    -it's conbination of variable,values,operators,etc that is reduced to a sigle line While statement is a piece of code that instructs the interpreter to do some action or we can say statement is used to control the flow of code"
   ]
  },
  {
   "cell_type": "code",
   "execution_count": 27,
   "id": "d21d2743",
   "metadata": {},
   "outputs": [
    {
     "data": {
      "text/plain": [
       "3"
      ]
     },
     "execution_count": 27,
     "metadata": {},
     "output_type": "execute_result"
    }
   ],
   "source": [
    "# Expression\n",
    "1+2"
   ]
  },
  {
   "cell_type": "code",
   "execution_count": 28,
   "id": "c7e1cece",
   "metadata": {},
   "outputs": [
    {
     "name": "stdout",
     "output_type": "stream",
     "text": [
      "x is greater than 10\n"
     ]
    }
   ],
   "source": [
    "# Statements\n",
    "\n",
    "x = 10\n",
    "if x>5:\n",
    "    print('x is greater than 10')\n",
    "else:\n",
    "    print('x is less than 10')"
   ]
  },
  {
   "cell_type": "markdown",
   "id": "9b63a384",
   "metadata": {},
   "source": []
  }
 ],
 "metadata": {
  "kernelspec": {
   "display_name": "Python 3 (ipykernel)",
   "language": "python",
   "name": "python3"
  },
  "language_info": {
   "codemirror_mode": {
    "name": "ipython",
    "version": 3
   },
   "file_extension": ".py",
   "mimetype": "text/x-python",
   "name": "python",
   "nbconvert_exporter": "python",
   "pygments_lexer": "ipython3",
   "version": "3.9.7"
  }
 },
 "nbformat": 4,
 "nbformat_minor": 5
}
