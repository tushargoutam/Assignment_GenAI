{
 "cells": [
  {
   "cell_type": "markdown",
   "id": "bbe64f5f",
   "metadata": {},
   "source": [
    "# Q1.Convert an integer to a floating-point number."
   ]
  },
  {
   "cell_type": "code",
   "execution_count": 6,
   "id": "d22b376e",
   "metadata": {},
   "outputs": [],
   "source": [
    "a = 10"
   ]
  },
  {
   "cell_type": "code",
   "execution_count": 7,
   "id": "0bf80b4d",
   "metadata": {},
   "outputs": [
    {
     "name": "stdout",
     "output_type": "stream",
     "text": [
      "10\n"
     ]
    }
   ],
   "source": [
    "print(a)"
   ]
  },
  {
   "cell_type": "code",
   "execution_count": 8,
   "id": "2ac830e5",
   "metadata": {},
   "outputs": [
    {
     "data": {
      "text/plain": [
       "int"
      ]
     },
     "execution_count": 8,
     "metadata": {},
     "output_type": "execute_result"
    }
   ],
   "source": [
    "type(a)"
   ]
  },
  {
   "cell_type": "code",
   "execution_count": 9,
   "id": "11ec142f",
   "metadata": {},
   "outputs": [],
   "source": [
    "a = float(a)"
   ]
  },
  {
   "cell_type": "code",
   "execution_count": 10,
   "id": "bd670c41",
   "metadata": {},
   "outputs": [
    {
     "data": {
      "text/plain": [
       "float"
      ]
     },
     "execution_count": 10,
     "metadata": {},
     "output_type": "execute_result"
    }
   ],
   "source": [
    "type(a)"
   ]
  },
  {
   "cell_type": "code",
   "execution_count": 11,
   "id": "5b72835d",
   "metadata": {},
   "outputs": [
    {
     "name": "stdout",
     "output_type": "stream",
     "text": [
      "10.0\n"
     ]
    }
   ],
   "source": [
    "print(a)"
   ]
  },
  {
   "cell_type": "markdown",
   "id": "fcf3bdfe",
   "metadata": {},
   "source": [
    "# Q2.Convert a float to an integer."
   ]
  },
  {
   "cell_type": "code",
   "execution_count": 12,
   "id": "a4df3b02",
   "metadata": {},
   "outputs": [],
   "source": [
    "b = 3.5"
   ]
  },
  {
   "cell_type": "code",
   "execution_count": 14,
   "id": "5026e914",
   "metadata": {},
   "outputs": [
    {
     "data": {
      "text/plain": [
       "3.5"
      ]
     },
     "execution_count": 14,
     "metadata": {},
     "output_type": "execute_result"
    }
   ],
   "source": [
    "b"
   ]
  },
  {
   "cell_type": "code",
   "execution_count": 15,
   "id": "98034216",
   "metadata": {},
   "outputs": [
    {
     "data": {
      "text/plain": [
       "float"
      ]
     },
     "execution_count": 15,
     "metadata": {},
     "output_type": "execute_result"
    }
   ],
   "source": [
    "type(b)"
   ]
  },
  {
   "cell_type": "code",
   "execution_count": 16,
   "id": "c218f8f8",
   "metadata": {},
   "outputs": [],
   "source": [
    "b = int(b)"
   ]
  },
  {
   "cell_type": "code",
   "execution_count": 17,
   "id": "bb3dcd50",
   "metadata": {},
   "outputs": [
    {
     "data": {
      "text/plain": [
       "3"
      ]
     },
     "execution_count": 17,
     "metadata": {},
     "output_type": "execute_result"
    }
   ],
   "source": [
    "b"
   ]
  },
  {
   "cell_type": "code",
   "execution_count": 18,
   "id": "85b77936",
   "metadata": {},
   "outputs": [
    {
     "data": {
      "text/plain": [
       "int"
      ]
     },
     "execution_count": 18,
     "metadata": {},
     "output_type": "execute_result"
    }
   ],
   "source": [
    "type(b)"
   ]
  },
  {
   "cell_type": "markdown",
   "id": "494b045b",
   "metadata": {},
   "source": [
    "# Q3.Convert and integer to a string."
   ]
  },
  {
   "cell_type": "code",
   "execution_count": 19,
   "id": "cb690089",
   "metadata": {},
   "outputs": [],
   "source": [
    "c = 7"
   ]
  },
  {
   "cell_type": "code",
   "execution_count": 20,
   "id": "63028951",
   "metadata": {},
   "outputs": [
    {
     "data": {
      "text/plain": [
       "7"
      ]
     },
     "execution_count": 20,
     "metadata": {},
     "output_type": "execute_result"
    }
   ],
   "source": [
    "c"
   ]
  },
  {
   "cell_type": "code",
   "execution_count": 21,
   "id": "72f9b209",
   "metadata": {},
   "outputs": [
    {
     "data": {
      "text/plain": [
       "int"
      ]
     },
     "execution_count": 21,
     "metadata": {},
     "output_type": "execute_result"
    }
   ],
   "source": [
    "type(c)"
   ]
  },
  {
   "cell_type": "code",
   "execution_count": 22,
   "id": "f243511d",
   "metadata": {},
   "outputs": [],
   "source": [
    "c = str(c)"
   ]
  },
  {
   "cell_type": "code",
   "execution_count": 23,
   "id": "209c80a0",
   "metadata": {},
   "outputs": [
    {
     "data": {
      "text/plain": [
       "'7'"
      ]
     },
     "execution_count": 23,
     "metadata": {},
     "output_type": "execute_result"
    }
   ],
   "source": [
    "c"
   ]
  },
  {
   "cell_type": "code",
   "execution_count": 24,
   "id": "c6b6d62b",
   "metadata": {},
   "outputs": [
    {
     "data": {
      "text/plain": [
       "str"
      ]
     },
     "execution_count": 24,
     "metadata": {},
     "output_type": "execute_result"
    }
   ],
   "source": [
    "type(c)"
   ]
  },
  {
   "cell_type": "markdown",
   "id": "17b2743a",
   "metadata": {},
   "source": [
    "# Q4.Convert a list to a tuple."
   ]
  },
  {
   "cell_type": "code",
   "execution_count": 25,
   "id": "9969b2cc",
   "metadata": {},
   "outputs": [],
   "source": [
    "l = [1,2,3,4,5]"
   ]
  },
  {
   "cell_type": "code",
   "execution_count": 26,
   "id": "a98eb50e",
   "metadata": {},
   "outputs": [
    {
     "data": {
      "text/plain": [
       "[1, 2, 3, 4, 5]"
      ]
     },
     "execution_count": 26,
     "metadata": {},
     "output_type": "execute_result"
    }
   ],
   "source": [
    "l"
   ]
  },
  {
   "cell_type": "code",
   "execution_count": 27,
   "id": "7f5cd868",
   "metadata": {},
   "outputs": [
    {
     "data": {
      "text/plain": [
       "list"
      ]
     },
     "execution_count": 27,
     "metadata": {},
     "output_type": "execute_result"
    }
   ],
   "source": [
    "type(l)"
   ]
  },
  {
   "cell_type": "code",
   "execution_count": 28,
   "id": "9aa2f8d8",
   "metadata": {},
   "outputs": [],
   "source": [
    "t = tuple(l)"
   ]
  },
  {
   "cell_type": "code",
   "execution_count": 29,
   "id": "b61bb40b",
   "metadata": {},
   "outputs": [
    {
     "data": {
      "text/plain": [
       "(1, 2, 3, 4, 5)"
      ]
     },
     "execution_count": 29,
     "metadata": {},
     "output_type": "execute_result"
    }
   ],
   "source": [
    "t"
   ]
  },
  {
   "cell_type": "code",
   "execution_count": 30,
   "id": "eab2e3dc",
   "metadata": {},
   "outputs": [
    {
     "data": {
      "text/plain": [
       "tuple"
      ]
     },
     "execution_count": 30,
     "metadata": {},
     "output_type": "execute_result"
    }
   ],
   "source": [
    "type(t)"
   ]
  },
  {
   "cell_type": "markdown",
   "id": "25cea6e7",
   "metadata": {},
   "source": [
    "# Q5.Convert a tuple to a list"
   ]
  },
  {
   "cell_type": "code",
   "execution_count": 31,
   "id": "eaf792c3",
   "metadata": {},
   "outputs": [],
   "source": [
    "t1 = (1,3,4,5,6)"
   ]
  },
  {
   "cell_type": "code",
   "execution_count": 32,
   "id": "fe62b6d3",
   "metadata": {},
   "outputs": [
    {
     "data": {
      "text/plain": [
       "(1, 3, 4, 5, 6)"
      ]
     },
     "execution_count": 32,
     "metadata": {},
     "output_type": "execute_result"
    }
   ],
   "source": [
    "t1"
   ]
  },
  {
   "cell_type": "code",
   "execution_count": 33,
   "id": "2e4fe8d1",
   "metadata": {},
   "outputs": [
    {
     "data": {
      "text/plain": [
       "tuple"
      ]
     },
     "execution_count": 33,
     "metadata": {},
     "output_type": "execute_result"
    }
   ],
   "source": [
    "type(t1)"
   ]
  },
  {
   "cell_type": "code",
   "execution_count": 34,
   "id": "d90479f7",
   "metadata": {},
   "outputs": [],
   "source": [
    "l1 = list(t1)"
   ]
  },
  {
   "cell_type": "code",
   "execution_count": 35,
   "id": "7e6aa46f",
   "metadata": {},
   "outputs": [
    {
     "data": {
      "text/plain": [
       "[1, 3, 4, 5, 6]"
      ]
     },
     "execution_count": 35,
     "metadata": {},
     "output_type": "execute_result"
    }
   ],
   "source": [
    "l1"
   ]
  },
  {
   "cell_type": "code",
   "execution_count": 36,
   "id": "c342665a",
   "metadata": {},
   "outputs": [
    {
     "data": {
      "text/plain": [
       "list"
      ]
     },
     "execution_count": 36,
     "metadata": {},
     "output_type": "execute_result"
    }
   ],
   "source": [
    "type(l1)"
   ]
  },
  {
   "cell_type": "markdown",
   "id": "c2764499",
   "metadata": {},
   "source": [
    "# Q6.Convert a decimal to binary"
   ]
  },
  {
   "cell_type": "code",
   "execution_count": 40,
   "id": "e756ac86",
   "metadata": {},
   "outputs": [],
   "source": [
    "dec = 10"
   ]
  },
  {
   "cell_type": "code",
   "execution_count": 41,
   "id": "979c88ac",
   "metadata": {},
   "outputs": [
    {
     "data": {
      "text/plain": [
       "10"
      ]
     },
     "execution_count": 41,
     "metadata": {},
     "output_type": "execute_result"
    }
   ],
   "source": [
    "dec"
   ]
  },
  {
   "cell_type": "code",
   "execution_count": 42,
   "id": "6c93fe31",
   "metadata": {},
   "outputs": [
    {
     "data": {
      "text/plain": [
       "int"
      ]
     },
     "execution_count": 42,
     "metadata": {},
     "output_type": "execute_result"
    }
   ],
   "source": [
    "type(dec)"
   ]
  },
  {
   "cell_type": "code",
   "execution_count": 43,
   "id": "2cc75dd1",
   "metadata": {},
   "outputs": [],
   "source": [
    "binr = bin(dec)"
   ]
  },
  {
   "cell_type": "code",
   "execution_count": 44,
   "id": "c9eedf6d",
   "metadata": {},
   "outputs": [
    {
     "data": {
      "text/plain": [
       "'0b1010'"
      ]
     },
     "execution_count": 44,
     "metadata": {},
     "output_type": "execute_result"
    }
   ],
   "source": [
    "binr"
   ]
  },
  {
   "cell_type": "code",
   "execution_count": 46,
   "id": "eb0fa65e",
   "metadata": {},
   "outputs": [],
   "source": [
    "binr = binr.replace('0b','')"
   ]
  },
  {
   "cell_type": "code",
   "execution_count": 48,
   "id": "c63cb772",
   "metadata": {},
   "outputs": [
    {
     "data": {
      "text/plain": [
       "'1010'"
      ]
     },
     "execution_count": 48,
     "metadata": {},
     "output_type": "execute_result"
    }
   ],
   "source": [
    "# it's a str for binary of the decimal\n",
    "binr\n"
   ]
  },
  {
   "cell_type": "markdown",
   "id": "8e2ec4ab",
   "metadata": {},
   "source": [
    "# Q7.Convert a non-zero number to boolean"
   ]
  },
  {
   "cell_type": "code",
   "execution_count": 49,
   "id": "62f165ad",
   "metadata": {},
   "outputs": [],
   "source": [
    "nz = 4"
   ]
  },
  {
   "cell_type": "code",
   "execution_count": 50,
   "id": "4084c65e",
   "metadata": {},
   "outputs": [
    {
     "data": {
      "text/plain": [
       "4"
      ]
     },
     "execution_count": 50,
     "metadata": {},
     "output_type": "execute_result"
    }
   ],
   "source": [
    "nz"
   ]
  },
  {
   "cell_type": "code",
   "execution_count": 51,
   "id": "3c47a65d",
   "metadata": {},
   "outputs": [],
   "source": [
    "nz_bool = bool(nz)"
   ]
  },
  {
   "cell_type": "code",
   "execution_count": 52,
   "id": "11ad717f",
   "metadata": {},
   "outputs": [
    {
     "data": {
      "text/plain": [
       "True"
      ]
     },
     "execution_count": 52,
     "metadata": {},
     "output_type": "execute_result"
    }
   ],
   "source": [
    "nz_bool"
   ]
  },
  {
   "cell_type": "code",
   "execution_count": null,
   "id": "66ced2c0",
   "metadata": {},
   "outputs": [],
   "source": []
  }
 ],
 "metadata": {
  "kernelspec": {
   "display_name": "Python 3 (ipykernel)",
   "language": "python",
   "name": "python3"
  },
  "language_info": {
   "codemirror_mode": {
    "name": "ipython",
    "version": 3
   },
   "file_extension": ".py",
   "mimetype": "text/x-python",
   "name": "python",
   "nbconvert_exporter": "python",
   "pygments_lexer": "ipython3",
   "version": "3.9.7"
  }
 },
 "nbformat": 4,
 "nbformat_minor": 5
}
