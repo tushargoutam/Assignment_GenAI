{
 "cells": [
  {
   "cell_type": "markdown",
   "id": "c9accaaf",
   "metadata": {},
   "source": [
    "# Q1.Print numbers from 1 to 5 using a while loop"
   ]
  },
  {
   "cell_type": "code",
   "execution_count": 1,
   "id": "5d564b11",
   "metadata": {},
   "outputs": [
    {
     "name": "stdout",
     "output_type": "stream",
     "text": [
      "1\n",
      "2\n",
      "3\n",
      "4\n",
      "5\n"
     ]
    }
   ],
   "source": [
    "n = 1\n",
    "while n<=5:\n",
    "    print(n)\n",
    "    n += 1"
   ]
  },
  {
   "cell_type": "markdown",
   "id": "6bb4beaf",
   "metadata": {},
   "source": [
    "# Q2.Calculate the sum of numbers from 1 to 10 using a while loop."
   ]
  },
  {
   "cell_type": "code",
   "execution_count": 2,
   "id": "0a104ac2",
   "metadata": {},
   "outputs": [
    {
     "data": {
      "text/plain": [
       "55"
      ]
     },
     "execution_count": 2,
     "metadata": {},
     "output_type": "execute_result"
    }
   ],
   "source": [
    "num = 1\n",
    "sm = 0\n",
    "while num<=10:\n",
    "    sm += num\n",
    "    num+=1\n",
    "sm"
   ]
  },
  {
   "cell_type": "markdown",
   "id": "7c34e67f",
   "metadata": {},
   "source": [
    "# Q3.Calculate the factorial of a number using a for loop."
   ]
  },
  {
   "cell_type": "code",
   "execution_count": 4,
   "id": "d9a581a1",
   "metadata": {},
   "outputs": [
    {
     "name": "stdout",
     "output_type": "stream",
     "text": [
      "Enter the number to calculate Factorial : 5\n",
      "The factorial is : 120\n"
     ]
    }
   ],
   "source": [
    "num = int(input(\"Enter the number to calculate Factorial : \"))\n",
    "fact = 1\n",
    "for i in range(1,num+1):\n",
    "    fact *= i\n",
    "    \n",
    "print(f\"The factorial is : {fact}\")"
   ]
  },
  {
   "cell_type": "markdown",
   "id": "fe739e68",
   "metadata": {},
   "source": [
    "# Q4.Count the number of vowels in a string using a for loop."
   ]
  },
  {
   "cell_type": "code",
   "execution_count": 6,
   "id": "6551d4f9",
   "metadata": {},
   "outputs": [
    {
     "data": {
      "text/plain": [
       "3"
      ]
     },
     "execution_count": 6,
     "metadata": {},
     "output_type": "execute_result"
    }
   ],
   "source": [
    "l = ['a','e','i','o','u','A','E','I','O','U']\n",
    "s = 'fantastic'\n",
    "cnt_vowel = 0\n",
    "for char in s:\n",
    "    if char in l:\n",
    "        cnt_vowel += 1\n",
    "cnt_vowel"
   ]
  },
  {
   "cell_type": "markdown",
   "id": "f273f9f2",
   "metadata": {},
   "source": [
    "# Q5.Print Pattern using nested loops."
   ]
  },
  {
   "cell_type": "code",
   "execution_count": 8,
   "id": "0cce4286",
   "metadata": {},
   "outputs": [
    {
     "name": "stdout",
     "output_type": "stream",
     "text": [
      "\n",
      "* \n",
      "* * \n",
      "* * * \n",
      "* * * * \n"
     ]
    }
   ],
   "source": [
    "#using while\n",
    "r=0\n",
    "c = 0\n",
    "while r<5:\n",
    "    c = 0\n",
    "    while c<r:\n",
    "        print(\"*\",end=' ')\n",
    "        c+=1\n",
    "    print()\n",
    "    r+=1"
   ]
  },
  {
   "cell_type": "code",
   "execution_count": 9,
   "id": "efc53885",
   "metadata": {},
   "outputs": [
    {
     "name": "stdout",
     "output_type": "stream",
     "text": [
      "\n",
      "* \n",
      "* * \n",
      "* * * \n",
      "* * * * \n"
     ]
    }
   ],
   "source": [
    "#using for\n",
    "for i in range(0,5):\n",
    "    for j in range(0,i):\n",
    "        print('*',end=' ')\n",
    "    print()"
   ]
  },
  {
   "cell_type": "markdown",
   "id": "6e1201f4",
   "metadata": {},
   "source": [
    "# Q6.Generate a multiplication table using nested loops."
   ]
  },
  {
   "cell_type": "code",
   "execution_count": 10,
   "id": "3f52270b",
   "metadata": {},
   "outputs": [
    {
     "name": "stdout",
     "output_type": "stream",
     "text": [
      "Do you want to generate a table : \n",
      "1.Yes\n",
      "2.No\n",
      "Enter the Number to choose : 1\n",
      "Enter the number to generate table : 2\n",
      "2 * 1 = 2\n",
      "2 * 2 = 4\n",
      "2 * 3 = 6\n",
      "2 * 4 = 8\n",
      "2 * 5 = 10\n",
      "2 * 6 = 12\n",
      "2 * 7 = 14\n",
      "2 * 8 = 16\n",
      "2 * 9 = 18\n",
      "2 * 10 = 20\n",
      "Do you want to generate a table : \n",
      "1.Yes\n",
      "2.No\n",
      "Enter the Number to choose : 1\n",
      "Enter the number to generate table : 5\n",
      "5 * 1 = 5\n",
      "5 * 2 = 10\n",
      "5 * 3 = 15\n",
      "5 * 4 = 20\n",
      "5 * 5 = 25\n",
      "5 * 6 = 30\n",
      "5 * 7 = 35\n",
      "5 * 8 = 40\n",
      "5 * 9 = 45\n",
      "5 * 10 = 50\n",
      "Do you want to generate a table : \n",
      "1.Yes\n",
      "2.No\n",
      "Enter the Number to choose : 2\n"
     ]
    }
   ],
   "source": [
    "print(\"Do you want to generate a table : \")\n",
    "print('1.Yes')\n",
    "print('2.No')\n",
    "choice = int(input('Enter the Number to choose : '))\n",
    "while choice == 1:\n",
    "    num = int(input(\"Enter the number to generate table : \"))\n",
    "    for mul in range(1,11):\n",
    "        print(f\"{num} * {mul} = {num*mul}\")\n",
    "    print(\"Do you want to generate a table : \")\n",
    "    print('1.Yes')\n",
    "    print('2.No')\n",
    "    choice = int(input('Enter the Number to choose : '))"
   ]
  },
  {
   "cell_type": "code",
   "execution_count": null,
   "id": "c61d0c7a",
   "metadata": {},
   "outputs": [],
   "source": []
  }
 ],
 "metadata": {
  "kernelspec": {
   "display_name": "Python 3 (ipykernel)",
   "language": "python",
   "name": "python3"
  },
  "language_info": {
   "codemirror_mode": {
    "name": "ipython",
    "version": 3
   },
   "file_extension": ".py",
   "mimetype": "text/x-python",
   "name": "python",
   "nbconvert_exporter": "python",
   "pygments_lexer": "ipython3",
   "version": "3.9.7"
  }
 },
 "nbformat": 4,
 "nbformat_minor": 5
}
